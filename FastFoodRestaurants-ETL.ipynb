{
 "cells": [
  {
   "cell_type": "code",
   "execution_count": 1,
   "metadata": {},
   "outputs": [],
   "source": [
    "import pandas as pd\n",
    "import numpy as np\n",
    "# import os"
   ]
  },
  {
   "cell_type": "markdown",
   "metadata": {},
   "source": [
    "# Restaurants Extract and Transform"
   ]
  },
  {
   "cell_type": "code",
   "execution_count": 2,
   "metadata": {},
   "outputs": [
    {
     "data": {
      "text/plain": [
       "Index(['id', 'dateAdded', 'dateUpdated', 'address', 'categories', 'city',\n",
       "       'country', 'keys', 'latitude', 'longitude', 'name', 'postalCode',\n",
       "       'province', 'sourceURLs', 'websites'],\n",
       "      dtype='object')"
      ]
     },
     "execution_count": 2,
     "metadata": {},
     "output_type": "execute_result"
    }
   ],
   "source": [
    "df = pd.read_csv('Data/Datafiniti_Fast_Food_Restaurants.csv')\n",
    "df.columns"
   ]
  },
  {
   "cell_type": "code",
   "execution_count": 3,
   "metadata": {},
   "outputs": [
    {
     "data": {
      "text/plain": [
       "id              object\n",
       "dateAdded       object\n",
       "dateUpdated     object\n",
       "address         object\n",
       "categories      object\n",
       "city            object\n",
       "country         object\n",
       "keys            object\n",
       "latitude       float64\n",
       "longitude      float64\n",
       "name            object\n",
       "postalCode      object\n",
       "province        object\n",
       "sourceURLs      object\n",
       "websites        object\n",
       "dtype: object"
      ]
     },
     "execution_count": 3,
     "metadata": {},
     "output_type": "execute_result"
    }
   ],
   "source": [
    "df.dtypes"
   ]
  },
  {
   "cell_type": "code",
   "execution_count": 4,
   "metadata": {},
   "outputs": [
    {
     "data": {
      "text/html": [
       "<div>\n",
       "<style scoped>\n",
       "    .dataframe tbody tr th:only-of-type {\n",
       "        vertical-align: middle;\n",
       "    }\n",
       "\n",
       "    .dataframe tbody tr th {\n",
       "        vertical-align: top;\n",
       "    }\n",
       "\n",
       "    .dataframe thead th {\n",
       "        text-align: right;\n",
       "    }\n",
       "</style>\n",
       "<table border=\"1\" class=\"dataframe\">\n",
       "  <thead>\n",
       "    <tr style=\"text-align: right;\">\n",
       "      <th></th>\n",
       "      <th>id</th>\n",
       "      <th>dateAdded</th>\n",
       "      <th>dateUpdated</th>\n",
       "      <th>address</th>\n",
       "      <th>categories</th>\n",
       "      <th>city</th>\n",
       "      <th>country</th>\n",
       "      <th>keys</th>\n",
       "      <th>latitude</th>\n",
       "      <th>longitude</th>\n",
       "      <th>name</th>\n",
       "      <th>postalCode</th>\n",
       "      <th>province</th>\n",
       "      <th>sourceURLs</th>\n",
       "      <th>websites</th>\n",
       "    </tr>\n",
       "  </thead>\n",
       "  <tbody>\n",
       "    <tr>\n",
       "      <th>0</th>\n",
       "      <td>AVwcmSyZIN2L1WUfmxyw</td>\n",
       "      <td>2015-10-19T23:47:58Z</td>\n",
       "      <td>2018-06-26T03:00:14Z</td>\n",
       "      <td>800 N Canal Blvd</td>\n",
       "      <td>American Restaurant and Fast Food Restaurant</td>\n",
       "      <td>Thibodaux</td>\n",
       "      <td>US</td>\n",
       "      <td>us/la/thibodaux/800ncanalblvd/1780593795</td>\n",
       "      <td>29.814697</td>\n",
       "      <td>-90.814742</td>\n",
       "      <td>SONIC Drive In</td>\n",
       "      <td>70301</td>\n",
       "      <td>LA</td>\n",
       "      <td>https://foursquare.com/v/sonic-drive-in/4b7361...</td>\n",
       "      <td>https://locations.sonicdrivein.com/la/thibodau...</td>\n",
       "    </tr>\n",
       "    <tr>\n",
       "      <th>1</th>\n",
       "      <td>AVwcmSyZIN2L1WUfmxyw</td>\n",
       "      <td>2015-10-19T23:47:58Z</td>\n",
       "      <td>2018-06-26T03:00:14Z</td>\n",
       "      <td>800 N Canal Blvd</td>\n",
       "      <td>Fast Food Restaurants</td>\n",
       "      <td>Thibodaux</td>\n",
       "      <td>US</td>\n",
       "      <td>us/la/thibodaux/800ncanalblvd/1780593795</td>\n",
       "      <td>29.814697</td>\n",
       "      <td>-90.814742</td>\n",
       "      <td>SONIC Drive In</td>\n",
       "      <td>70301</td>\n",
       "      <td>LA</td>\n",
       "      <td>https://foursquare.com/v/sonic-drive-in/4b7361...</td>\n",
       "      <td>https://locations.sonicdrivein.com/la/thibodau...</td>\n",
       "    </tr>\n",
       "    <tr>\n",
       "      <th>2</th>\n",
       "      <td>AVwcopQoByjofQCxgfVa</td>\n",
       "      <td>2016-03-29T05:06:36Z</td>\n",
       "      <td>2018-06-26T02:59:52Z</td>\n",
       "      <td>206 Wears Valley Rd</td>\n",
       "      <td>Fast Food Restaurant</td>\n",
       "      <td>Pigeon Forge</td>\n",
       "      <td>US</td>\n",
       "      <td>us/tn/pigeonforge/206wearsvalleyrd/-864103396</td>\n",
       "      <td>35.803788</td>\n",
       "      <td>-83.580553</td>\n",
       "      <td>Taco Bell</td>\n",
       "      <td>37863</td>\n",
       "      <td>TN</td>\n",
       "      <td>https://www.yellowpages.com/pigeon-forge-tn/mi...</td>\n",
       "      <td>http://www.tacobell.com,https://locations.taco...</td>\n",
       "    </tr>\n",
       "    <tr>\n",
       "      <th>3</th>\n",
       "      <td>AVweXN5RByjofQCxxilK</td>\n",
       "      <td>2017-01-03T07:46:11Z</td>\n",
       "      <td>2018-06-26T02:59:51Z</td>\n",
       "      <td>3652 Parkway</td>\n",
       "      <td>Fast Food</td>\n",
       "      <td>Pigeon Forge</td>\n",
       "      <td>US</td>\n",
       "      <td>us/tn/pigeonforge/3652parkway/93075755</td>\n",
       "      <td>35.782339</td>\n",
       "      <td>-83.551408</td>\n",
       "      <td>Arby's</td>\n",
       "      <td>37863</td>\n",
       "      <td>TN</td>\n",
       "      <td>http://www.yellowbook.com/profile/arbys_163389...</td>\n",
       "      <td>http://www.arbys.com,https://locations.arbys.c...</td>\n",
       "    </tr>\n",
       "    <tr>\n",
       "      <th>4</th>\n",
       "      <td>AWQ6MUvo3-Khe5l_j3SG</td>\n",
       "      <td>2018-06-26T02:59:43Z</td>\n",
       "      <td>2018-06-26T02:59:43Z</td>\n",
       "      <td>2118 Mt Zion Parkway</td>\n",
       "      <td>Fast Food Restaurant</td>\n",
       "      <td>Morrow</td>\n",
       "      <td>US</td>\n",
       "      <td>us/ga/morrow/2118mtzionparkway/1305117222</td>\n",
       "      <td>33.562738</td>\n",
       "      <td>-84.321143</td>\n",
       "      <td>Steak 'n Shake</td>\n",
       "      <td>30260</td>\n",
       "      <td>GA</td>\n",
       "      <td>https://foursquare.com/v/steak-n-shake/4bcf77a...</td>\n",
       "      <td>http://www.steaknshake.com/locations/23851-ste...</td>\n",
       "    </tr>\n",
       "  </tbody>\n",
       "</table>\n",
       "</div>"
      ],
      "text/plain": [
       "                     id             dateAdded           dateUpdated  \\\n",
       "0  AVwcmSyZIN2L1WUfmxyw  2015-10-19T23:47:58Z  2018-06-26T03:00:14Z   \n",
       "1  AVwcmSyZIN2L1WUfmxyw  2015-10-19T23:47:58Z  2018-06-26T03:00:14Z   \n",
       "2  AVwcopQoByjofQCxgfVa  2016-03-29T05:06:36Z  2018-06-26T02:59:52Z   \n",
       "3  AVweXN5RByjofQCxxilK  2017-01-03T07:46:11Z  2018-06-26T02:59:51Z   \n",
       "4  AWQ6MUvo3-Khe5l_j3SG  2018-06-26T02:59:43Z  2018-06-26T02:59:43Z   \n",
       "\n",
       "                address                                    categories  \\\n",
       "0      800 N Canal Blvd  American Restaurant and Fast Food Restaurant   \n",
       "1      800 N Canal Blvd                         Fast Food Restaurants   \n",
       "2   206 Wears Valley Rd                          Fast Food Restaurant   \n",
       "3          3652 Parkway                                     Fast Food   \n",
       "4  2118 Mt Zion Parkway                          Fast Food Restaurant   \n",
       "\n",
       "           city country                                           keys  \\\n",
       "0     Thibodaux      US       us/la/thibodaux/800ncanalblvd/1780593795   \n",
       "1     Thibodaux      US       us/la/thibodaux/800ncanalblvd/1780593795   \n",
       "2  Pigeon Forge      US  us/tn/pigeonforge/206wearsvalleyrd/-864103396   \n",
       "3  Pigeon Forge      US         us/tn/pigeonforge/3652parkway/93075755   \n",
       "4        Morrow      US      us/ga/morrow/2118mtzionparkway/1305117222   \n",
       "\n",
       "    latitude  longitude            name postalCode province  \\\n",
       "0  29.814697 -90.814742  SONIC Drive In      70301       LA   \n",
       "1  29.814697 -90.814742  SONIC Drive In      70301       LA   \n",
       "2  35.803788 -83.580553       Taco Bell      37863       TN   \n",
       "3  35.782339 -83.551408          Arby's      37863       TN   \n",
       "4  33.562738 -84.321143  Steak 'n Shake      30260       GA   \n",
       "\n",
       "                                          sourceURLs  \\\n",
       "0  https://foursquare.com/v/sonic-drive-in/4b7361...   \n",
       "1  https://foursquare.com/v/sonic-drive-in/4b7361...   \n",
       "2  https://www.yellowpages.com/pigeon-forge-tn/mi...   \n",
       "3  http://www.yellowbook.com/profile/arbys_163389...   \n",
       "4  https://foursquare.com/v/steak-n-shake/4bcf77a...   \n",
       "\n",
       "                                            websites  \n",
       "0  https://locations.sonicdrivein.com/la/thibodau...  \n",
       "1  https://locations.sonicdrivein.com/la/thibodau...  \n",
       "2  http://www.tacobell.com,https://locations.taco...  \n",
       "3  http://www.arbys.com,https://locations.arbys.c...  \n",
       "4  http://www.steaknshake.com/locations/23851-ste...  "
      ]
     },
     "execution_count": 4,
     "metadata": {},
     "output_type": "execute_result"
    }
   ],
   "source": [
    "df.head()"
   ]
  },
  {
   "cell_type": "code",
   "execution_count": 5,
   "metadata": {},
   "outputs": [],
   "source": [
    "df = df.drop(['id', 'dateAdded', 'dateUpdated', 'address', 'categories', 'keys', 'latitude', 'longitude', 'postalCode', 'sourceURLs'], axis=1)\n"
   ]
  },
  {
   "cell_type": "code",
   "execution_count": 6,
   "metadata": {
    "scrolled": false
   },
   "outputs": [
    {
     "data": {
      "text/html": [
       "<div>\n",
       "<style scoped>\n",
       "    .dataframe tbody tr th:only-of-type {\n",
       "        vertical-align: middle;\n",
       "    }\n",
       "\n",
       "    .dataframe tbody tr th {\n",
       "        vertical-align: top;\n",
       "    }\n",
       "\n",
       "    .dataframe thead th {\n",
       "        text-align: right;\n",
       "    }\n",
       "</style>\n",
       "<table border=\"1\" class=\"dataframe\">\n",
       "  <thead>\n",
       "    <tr style=\"text-align: right;\">\n",
       "      <th></th>\n",
       "      <th>city</th>\n",
       "      <th>country</th>\n",
       "      <th>name</th>\n",
       "      <th>province</th>\n",
       "      <th>websites</th>\n",
       "    </tr>\n",
       "  </thead>\n",
       "  <tbody>\n",
       "    <tr>\n",
       "      <th>0</th>\n",
       "      <td>Thibodaux</td>\n",
       "      <td>US</td>\n",
       "      <td>SONIC Drive In</td>\n",
       "      <td>LA</td>\n",
       "      <td>https://locations.sonicdrivein.com/la/thibodau...</td>\n",
       "    </tr>\n",
       "    <tr>\n",
       "      <th>1</th>\n",
       "      <td>Thibodaux</td>\n",
       "      <td>US</td>\n",
       "      <td>SONIC Drive In</td>\n",
       "      <td>LA</td>\n",
       "      <td>https://locations.sonicdrivein.com/la/thibodau...</td>\n",
       "    </tr>\n",
       "    <tr>\n",
       "      <th>2</th>\n",
       "      <td>Pigeon Forge</td>\n",
       "      <td>US</td>\n",
       "      <td>Taco Bell</td>\n",
       "      <td>TN</td>\n",
       "      <td>http://www.tacobell.com,https://locations.taco...</td>\n",
       "    </tr>\n",
       "    <tr>\n",
       "      <th>3</th>\n",
       "      <td>Pigeon Forge</td>\n",
       "      <td>US</td>\n",
       "      <td>Arby's</td>\n",
       "      <td>TN</td>\n",
       "      <td>http://www.arbys.com,https://locations.arbys.c...</td>\n",
       "    </tr>\n",
       "    <tr>\n",
       "      <th>4</th>\n",
       "      <td>Morrow</td>\n",
       "      <td>US</td>\n",
       "      <td>Steak 'n Shake</td>\n",
       "      <td>GA</td>\n",
       "      <td>http://www.steaknshake.com/locations/23851-ste...</td>\n",
       "    </tr>\n",
       "  </tbody>\n",
       "</table>\n",
       "</div>"
      ],
      "text/plain": [
       "           city country            name province  \\\n",
       "0     Thibodaux      US  SONIC Drive In       LA   \n",
       "1     Thibodaux      US  SONIC Drive In       LA   \n",
       "2  Pigeon Forge      US       Taco Bell       TN   \n",
       "3  Pigeon Forge      US          Arby's       TN   \n",
       "4        Morrow      US  Steak 'n Shake       GA   \n",
       "\n",
       "                                            websites  \n",
       "0  https://locations.sonicdrivein.com/la/thibodau...  \n",
       "1  https://locations.sonicdrivein.com/la/thibodau...  \n",
       "2  http://www.tacobell.com,https://locations.taco...  \n",
       "3  http://www.arbys.com,https://locations.arbys.c...  \n",
       "4  http://www.steaknshake.com/locations/23851-ste...  "
      ]
     },
     "execution_count": 6,
     "metadata": {},
     "output_type": "execute_result"
    }
   ],
   "source": [
    "df.head()"
   ]
  },
  {
   "cell_type": "code",
   "execution_count": 7,
   "metadata": {
    "scrolled": true
   },
   "outputs": [
    {
     "data": {
      "text/plain": [
       "city        10000\n",
       "country     10000\n",
       "name        10000\n",
       "province    10000\n",
       "websites    10000\n",
       "dtype: int64"
      ]
     },
     "execution_count": 7,
     "metadata": {},
     "output_type": "execute_result"
    }
   ],
   "source": [
    "df.count()"
   ]
  },
  {
   "cell_type": "code",
   "execution_count": 8,
   "metadata": {},
   "outputs": [
    {
     "data": {
      "text/plain": [
       "McDonald's         1898\n",
       "Taco Bell          1032\n",
       "Burger King         833\n",
       "Subway              776\n",
       "Arby's              663\n",
       "Wendy's             628\n",
       "Jack in the Box     330\n",
       "Pizza Hut           230\n",
       "Dairy Queen         218\n",
       "Domino's Pizza      215\n",
       "Chick-fil-A         206\n",
       "KFC                 162\n",
       "SONIC Drive In      125\n",
       "Jimmy John's        119\n",
       "Carl's Jr.          112\n",
       "Name: name, dtype: int64"
      ]
     },
     "execution_count": 8,
     "metadata": {},
     "output_type": "execute_result"
    }
   ],
   "source": [
    "df[\"name\"].value_counts().head(15)"
   ]
  },
  {
   "cell_type": "code",
   "execution_count": 9,
   "metadata": {},
   "outputs": [
    {
     "name": "stdout",
     "output_type": "stream",
     "text": [
      "['7-eleven', '90 miles cuban cafe', 'a&w/long john silvers', \"a's ace burgers\", 'abruzzi pizza', 'acropolis gyro palace', 'adobe cantina salsa', 'ak buffet', 'all about burger', 'ameci pizza & pasta', \"andy's frozen custard\", \"angelina's pizza\", \"ani's chicken\", \"arby's\", \"arby's - closed\", 'arbys', 'arctic circle', \"arni's crawfordsville\", \"arthur treacher's fish & chips\", 'au bon pain', \"auntie anne's\", \"auntie anne's pretzels\", 'ay jalisco', 'b good', 'b&d burgers', \"b's pizza\", 'b.good', 'back yard burgers', 'backyard grill', \"bad daddy's burger bar\", 'baja fresh mexican grill', \"baker's drive thru\", \"baker's drive-thru\", 'band box diner', 'barberitos', \"barro's pizza\", 'baskin-robbins', 'batter up', 'beanthru', 'beef villa', \"bell's pizza\", 'belleria pizzeria', \"ben & jerry's\", \"ben and jerry's\", \"bennidito's pizza\", 'best gyros', 'big house burgers', 'big island pizza', 'bistro to go', 'blackies hotdog stand', 'blackjack pizza', \"blake's lotaburger\", 'blimpie', 'blue coast burrito', 'boardwalk grill', 'bob evans', 'bob evans restaurant', \"bobby's burger palace\", 'boddie noell enterprises inc', 'bojangles', \"bojangles' famous chicken 'n biscuits\", 'boloco', \"boomer's drive-in\", 'boston burger company', 'boston market', 'boston road pizza', 'boys burgers', \"braum's\", 'bristol 45 diner', \"bubba's texas burger shack\", \"bucky's family restaurant\", 'buona vita', 'burger basket', 'burger house', 'burger king', 'burger king/popeyes', 'burger king¬æ', 'burgerfi', 'burrito bros.', \"bush's chicken\", 'cafe paris', 'cafe zona rosa', 'california chicken cafe', 'california tortilla', 'capri italian restaurant', 'capri restaurant', \"capriotti's sandwich shop\", \"captain d's\", \"captain d's seafood\", \"carl's jr\", \"carl's jr / green burrito\", \"carl's jr.\", \"carl's jr. / green burrito\", \"carl's jr. / the green burrito\", 'carvel', 'casa mexicana', \"casey's general store\", 'caseys carry out pizza', \"cd's wings\", \"chanello's pizza\", \"charley's grilled subs\", 'charleys philly steaks', \"charlie's pizzeria\", \"charlie's restaurant\", 'charo chicken', \"checker's pizza\", 'checkers', 'chicago pizza with a twist', 'chick-fil-a', 'chicken express', 'chicken inn', 'chicken kitchen', \"chicken mary's\", 'china bowl take out restaurant', 'china buffet', 'china city', 'china garden', 'china restaurant', 'chinatown express', 'chinatown inn', 'chipotle', 'chipotle mexican grill', \"christo's original\", 'chronic tacos', 'chun wah kam noodle factory', \"church's chicken\", 'citizen burger bar', 'clambake seafood restaurant', 'cluck-u chicken', 'cobani gyro kebab', 'comet burgers', 'cook out', 'cook st. helena', 'copper oven artisan pizza', 'cottage inn pizza', 'country buffet', \"cousin's subs\", 'cozumel', 'cremo drive-in', 'creperie', 'crown fried chicken', \"culver's\", \"cupie's drive-in\", 'd & m subs', \"d'angelo grilled sandwiches\", 'dairy heaven', 'dairy queen', 'dairy queen (treat only)', 'danielle inc', 'de afghanan kabob house', 'del taco', \"dick's hamburgers\", \"dominick's italian restaurant\", 'dominion pizza', \"domino's pizza\", \"don & millie's\", 'dragon dragon', 'dunkin donuts', \"dunkin' donuts\", 'earth fare', 'east of edens', \"eegee's\", 'einstein bros bagels', 'el burrito loco', 'el original', 'el pollo loco', 'el pollo regio', 'el ranchito taco shop', 'el sombrero', 'el taquito', 'errandbug fast restaurant delivery', \"eudici's pizza\", 'extreme pita', 'fajita grill', \"famous dave's\", 'farmer boys', 'fashion cafe', \"fast eddie's moab\", 'fat boy burgers', \"fat mo's burgers\", \"fat patty's\", 'fatburger', \"fazoli's\", \"fazzari's\", 'festival eatery', \"filippi's pizza grotto\", 'firehouse subs', 'five guys', 'five guys burgers and fries', 'five guys burgers fries', 'flame broiler', 'flaming grill and buffet', 'flushing a', 'flying j', \"foster's freeze\", 'fosters freeze', 'four burgers', \"fox's gourmet delicatessen\", \"fox's pizza den\", 'frankies', 'fratellos hot dogs', 'frates drive-in', 'fuddruckers', 'fuku', \"gambino's pizza\", 'gangnam style korean kitchen', 'garden catering', 'gd bro burger', 'genghis grill', \"george's gyros spot 2\", 'git-it-n-git', 'glorious foods gourmet to go & catering', 'gold star chili', 'golden chick', 'golden dragon', 'golden harvest chinese restaurant', 'good guys pizza', 'gourmet grill', 'grand china chinese restaurant', 'grande italian restaurant', \"grandy's\", 'great american hamburger pie co', 'great bend taco', 'great wall restaurant', 'great wraps', \"guerrazzi's\", \"gus's carryout\", 'gyromania grill', 'gyros express', 'halo burger', 'happy dragon', \"hardee's\", \"hardee's / red burrito\", \"hardee's/red burrito\", 'hardees', \"heff's burgers\", 'henny penny family restaurant', 'hernandez mexican restaurant', 'hiboy drive-in', 'high tech burrito', 'hilton boston logan airport', \"hobo's korner kitchen\", 'hometown buffet', 'hon lin restaurant', 'hot dog on a stick', 'hot lips pizza', 'huddle house', 'hunan gardens', 'in-n-out burger', 'islands restaurant', 'isushi', 'italian pizzeria restaurant', 'italian village pizza', \"italo's pizza\", \"ivan's restaurant\", 'jack in the box', 'jack in the box -', \"jack's goal line stand\", 'jacks n joe', \"jake's wayback burgers\", 'jalsa indian fast food', 'jamba juice', \"jason's deli\", \"jerry's subs & pizza\", \"jersey mike's subs\", \"jim bob's chicken fingers\", \"jim's steakout\", \"jim's steaks\", \"jimmy john's\", 'jimmy johns', \"jimmy's grotto\", \"joe's crab shack\", 'johnny rockets', \"johnny's wife's place\", \"johnson's popcorn\", 'jollibee', 'jon smith subs', \"kasa's pizza\", 'kfc', 'kfc - kentucky fried chicken', 'kfc/aw', 'kfc/long john silvers', 'kfc/taco bell', \"kim's oriental kitchen\", 'king gyros', 'king of wings', 'king wah', 'kismet', \"kosta's gyros\", 'kow thai take out', 'krispy krunchy chicken', 'krystal', 'kum & go', 'kumagoro fine japanese restaurant and sushi bar', 'la hacienda mexican restaurant', \"lacey's on the hill restaurant\", 'lake trout 2', 'lakewood ranch baptist church', 'legends burgers', 'legendz', \"lilly's restaurant\", \"lin's garden\", \"lion's choice\", \"little caesar's pizza\", 'little caesars', 'little caesars pizza', 'little italy', 'little q hot pot', 'lobster hut', 'local burger', \"long john silver's\", \"long john silver's / aw\", 'long john silvers', 'long john silvers / a&w', 'los cotijas taco shop', 'loving hut', 'low chinese american restaurant', \"luby's\", \"lupo's char-pit\", \"ly's cafe\", \"mah's garden restaurant\", 'maid-rite', 'maki fresh', \"mama's fried chicken\", 'mandarin garden', 'mangia pizza', 'marathon', \"mason's famous lobster rolls\", 'mc donalds', \"mcalister's deli\", \"mcdonald's\", \"mcdonald's of rolesville\", 'mcdonalds', 'mcdonalds whitehouse', \"mcdonalds's\", 'megs drive in', \"mickey's gyros & ribs\", 'mignano bros', \"miguel's jr\", 'milk street cafe', \"miss katie's diner\", \"moe's burger joint\", \"moe's cafe\", \"moe's southwest grill\", \"mooney's ice cream store\", 'mr hero', 'mr taco', 'mr. chicken', 'mr. gyros greek food & pastry', 'mr. hero', 'mr. hoagie', 'mrs. fields', 'mustard seed', \"my daddy's pizza & grille\", \"nathan's famous\", \"natraj's tandoori\", 'new york pizza department', \"nick's gyros\", \"nino's pizzarama\", 'ocean empire restaurant', 'old carolina barbecue company', 'old country buffet', 'old mill crab house', 'orange julius', \"original tommy's hamburgers\", \"oscar's restaurant\", \"pal's sudden service\", \"palio's pizza cafe\", 'panda express', 'panda express innovation kitchen', 'panera bread', \"papa gino's\", 'papa gyros', \"papa j's\", \"papa joe's pizza\", \"papa john's pizza\", 'parkside gyros', \"patrick's on third\", 'pdq', 'peach garden', 'pei wei', 'penguin point', 'penn station east coast subs', \"penn's thai cafe\", 'pepperjax grill', \"petro's chili & chips\", \"photo's hot dogs\", 'pick up stix', 'picnic basket', 'pilot travel center', \"pita's republic\", 'pizza barn', 'pizza guys', 'pizza hut', 'pizza inn', 'pizza pipeline', 'pizza pro', 'pizza pub', \"plato's closet\", 'players grill', 'poki roll', 'pollo campero', 'pollo tropical', 'pony express to go', \"popeye's louisiana kitchen\", 'popeyes', 'popeyes chicken & biscuits', 'popeyes chicken biscuits', 'popeyes louisiana kitchen', 'port of subs', \"portillo's\", 'pretzel maker', 'pretzel time', \"price's chicken coop\", 'primo hoagies', \"primo's pizza\", 'qdoba mexican eats', 'qdoba mexican grill', \"quizno's\", 'quiznos', 'quiznos sub', \"raising cane's\", \"raising cane's chicken fingers\", 'raising canes', \"rally's\", \"rally's hamburgers\", 'rallys', \"rascal's teriyaki grill\", \"ray j's american grill\", 'red baron drive-in', 'regions bank', \"richard's pizza\", \"rick's drive in out\", \"rico's pizza & subs\", \"riviera d'italia\", 'roche bros.', 'roma pizza', 'romas pizza', 'round table pizza', \"rubio's\", 'runza', \"ryan's\", 'sakana', 'sakura japanese restaurant', 'salad creations', 'saladworks', \"sam's gyros\", \"sam's pizza restaurant\", 'sarku japan', 'sbarro', \"schlotzsky's\", 'sesame burgers & beer', 'shake shack', \"shamus's sandwich shoppe\", 'shangri-la chinese restaurant', 'shawarma kebab', 'sheetz', 'shell', 'shophouse southeast asian kitchen', 'siam fusion', \"simple simon's pizza\", 'skyline chili', 'smashburger', \"smithfield's chicken 'n bar-b-q\", 'smoothie king', 'sonic', \"sonic america's drive-in\", 'sonic drive in', 'sonic drive-in', 'spangles', 'st. clair broiler', 'starbucks coffee', \"steak 'n shake\", 'steak escape', 'steak n shake', 'steele pier hotdogs', \"stoko's\", 'sub conscious', 'subway', 'subway¬æ', 'sumo steaks', 'sunrise gyros', 'super wings', 'surfside burger shack', \"sweet magnolia's cafe bakery\", 't-mobile', \"tacconelli's pizza\", 'taco bell', 'taco bell / kfc', 'taco bell/kfc', 'taco bell/pizza hut', \"taco bob's\", 'taco bueno', 'taco cabana', 'taco casa', 'taco del mar', \"taco john's\", 'taco mama', 'taco mayo', 'taco time', \"tam's burgers\", 'tanuki sushi bar and garden', 'taqueria', 'tastee freez', 'thai delight', \"the 50's cafe\", \"the arch at mcdonald's campus office building\", 'the corner cafe', 'the dog pit', 'the extreme pita', 'the flame broiler', 'the grille', 'the hat', 'the hotdog shoppe', 'the new chalet', 'the pizza company', 'the sandwich place', 'the swinging door', 'themint gastropub', 'tiffin', \"togi's sub station\", \"togo's\", \"tom's drive in\", \"tony wang's chinese restaurant\", 'tonys pizza', \"topper's pizza\", 'toppers pizza', 'tropical smoothie cafe', 'tropicana pizza', \"tumby's pizza\", 'umami burger', 'veganburg', 'villa italian kitchen', 'vista drive in', 'w.g. grinders', 'waffle house', 'walmart supercenter', 'wawa', \"wendy's\", \"wendy's valenti management\", 'west point pizza', 'westchester burger company', \"wetzel's pretzels\", 'whataburger', 'which wich', \"whipper's pizza\", 'white castle', 'wienerschitzel', 'wienerschnitzel', \"wild willy's\", 'wingstop', 'wingstop restaurant', 'wise guys a chicago eatery', 'wolf river diner', \"wolf's dairy queen\", 'yoshinoya', 'zankou chicken', \"zaxby's\", \"zaxby's chicken fingers & buffalo wings\", \"zio's italian kitchen\"]\n"
     ]
    }
   ],
   "source": [
    "print(sorted(df['name'].str.lower().unique()))"
   ]
  },
  {
   "cell_type": "code",
   "execution_count": 10,
   "metadata": {},
   "outputs": [
    {
     "name": "stdout",
     "output_type": "stream",
     "text": [
      "['Mc Donalds', \"McAlister's Deli\", \"McDonald's\", \"McDonald's of Rolesville\", 'McDonalds', \"McDonalds's\", \"Mcdonald's\", 'Mcdonalds', 'Mcdonalds Whitehouse', \"The Arch at McDonald's Campus Office Building\"]\n"
     ]
    }
   ],
   "source": [
    "mcd_df = df[df['name'].str.lower().str.contains(\"mc\")]\n",
    "print(sorted(mcd_df['name'].unique()))"
   ]
  },
  {
   "cell_type": "code",
   "execution_count": 11,
   "metadata": {},
   "outputs": [
    {
     "name": "stdout",
     "output_type": "stream",
     "text": [
      "['Burger King/Popeyes', \"Popeye's Louisiana Kitchen\", 'Popeyes', 'Popeyes Chicken & Biscuits', 'Popeyes Chicken Biscuits', 'Popeyes Louisiana Kitchen']\n"
     ]
    }
   ],
   "source": [
    "popeye_df = df[df['name'].str.lower().str.contains(\"popeye\")]\n",
    "print(sorted(popeye_df['name'].unique()))"
   ]
  },
  {
   "cell_type": "code",
   "execution_count": 12,
   "metadata": {},
   "outputs": [
    {
     "name": "stdout",
     "output_type": "stream",
     "text": [
      "['SUBWAY', 'SUBWAY¬Æ', 'Subway']\n"
     ]
    }
   ],
   "source": [
    "subway_df = df[df['name'].str.lower().str.contains(\"subway\")]\n",
    "print(sorted(subway_df['name'].unique()))"
   ]
  },
  {
   "cell_type": "code",
   "execution_count": 13,
   "metadata": {},
   "outputs": [
    {
     "name": "stdout",
     "output_type": "stream",
     "text": [
      "['Burger King', 'Burger King/Popeyes', 'Burger King¬Æ', 'King Gyros', 'King Wah', 'King of Wings', 'Smoothie King']\n"
     ]
    }
   ],
   "source": [
    "king_df = df[df['name'].str.lower().str.contains(\"king\")]\n",
    "print(sorted(king_df['name'].unique()))"
   ]
  },
  {
   "cell_type": "code",
   "execution_count": 14,
   "metadata": {},
   "outputs": [
    {
     "name": "stdout",
     "output_type": "stream",
     "text": [
      "['Wienerschitzel', 'Wienerschnitzel']\n"
     ]
    }
   ],
   "source": [
    "weiner_df = df[df['name'].str.lower().str.contains(\"wiener\")]\n",
    "print(sorted(weiner_df['name'].unique()))"
   ]
  },
  {
   "cell_type": "code",
   "execution_count": 15,
   "metadata": {},
   "outputs": [
    {
     "name": "stdout",
     "output_type": "stream",
     "text": [
      "['SONIC Drive In', 'SONIC Drive-In', 'Sonic', \"Sonic America's Drive-In\", 'Sonic Drive In', 'Sonic Drive in', 'Sonic Drive-In']\n"
     ]
    }
   ],
   "source": [
    "sonic_df = df[df['name'].str.lower().str.contains(\"sonic\")]\n",
    "print(sorted(sonic_df['name'].unique()))"
   ]
  },
  {
   "cell_type": "code",
   "execution_count": 16,
   "metadata": {},
   "outputs": [
    {
     "name": "stdout",
     "output_type": "stream",
     "text": [
      "['KFC', 'KFC - Kentucky Fried Chicken', 'KFC/AW', 'KFC/Long John Silvers', 'KFC/Taco Bell', 'Taco Bell / KFC', 'Taco Bell/KFC']\n"
     ]
    }
   ],
   "source": [
    "kfc_df = df[df['name'].str.lower().str.contains(\"kfc\")]\n",
    "print(sorted(kfc_df['name'].unique()))"
   ]
  },
  {
   "cell_type": "code",
   "execution_count": 17,
   "metadata": {},
   "outputs": [
    {
     "name": "stdout",
     "output_type": "stream",
     "text": [
      "['Chipotle', 'Chipotle Mexican Grill']\n"
     ]
    }
   ],
   "source": [
    "chipotle_df = df[df['name'].str.lower().str.contains(\"chipotle\")]\n",
    "print(sorted(chipotle_df['name'].unique()))"
   ]
  },
  {
   "cell_type": "code",
   "execution_count": 18,
   "metadata": {},
   "outputs": [
    {
     "name": "stdout",
     "output_type": "stream",
     "text": [
      "[\"Arby's\", \"Arby's - Closed\", 'Arbys']\n"
     ]
    }
   ],
   "source": [
    "arby_df = df[df['name'].str.lower().str.contains(\"arby\")]\n",
    "print(sorted(arby_df['name'].unique()))"
   ]
  },
  {
   "cell_type": "code",
   "execution_count": 19,
   "metadata": {},
   "outputs": [
    {
     "name": "stdout",
     "output_type": "stream",
     "text": [
      "[\"Ben & Jerry's\", \"Ben and Jerry's\", \"Jerry's Subs & Pizza\"]\n"
     ]
    }
   ],
   "source": [
    "jerry_df = df[df['name'].str.lower().str.contains(\"jerry\")]\n",
    "print(sorted(jerry_df['name'].unique()))"
   ]
  },
  {
   "cell_type": "code",
   "execution_count": 20,
   "metadata": {},
   "outputs": [
    {
     "name": "stdout",
     "output_type": "stream",
     "text": [
      "['A&W/Long John Silvers', 'KFC/Long John Silvers', \"Long John Silver's\", \"Long John Silver's / AW\", 'Long John Silvers', 'Long John Silvers / A&W']\n"
     ]
    }
   ],
   "source": [
    "long_df = df[df['name'].str.lower().str.contains(\"long\")]\n",
    "print(sorted(long_df['name'].unique()))"
   ]
  },
  {
   "cell_type": "code",
   "execution_count": 21,
   "metadata": {},
   "outputs": [
    {
     "name": "stdout",
     "output_type": "stream",
     "text": [
      "[\"Auntie Anne's\", \"Auntie Anne's Pretzels\"]\n"
     ]
    }
   ],
   "source": [
    "auntie_df = df[df['name'].str.lower().str.contains(\"auntie\")]\n",
    "print(sorted(auntie_df['name'].unique()))"
   ]
  },
  {
   "cell_type": "code",
   "execution_count": 22,
   "metadata": {},
   "outputs": [
    {
     "name": "stdout",
     "output_type": "stream",
     "text": [
      "['Blackjack Pizza', 'Jack In The Box', 'Jack in the Box', 'Jack in the Box -', \"Jack's Goal Line Stand\", 'Jacks N Joe']\n"
     ]
    }
   ],
   "source": [
    "jack_df = df[df['name'].str.lower().str.contains(\"jack\")]\n",
    "print(sorted(jack_df['name'].unique()))"
   ]
  },
  {
   "cell_type": "code",
   "execution_count": 23,
   "metadata": {},
   "outputs": [
    {
     "name": "stdout",
     "output_type": "stream",
     "text": [
      "['Dairy Queen', 'Dairy Queen (Treat Only)', \"Wolf's Dairy Queen\"]\n"
     ]
    }
   ],
   "source": [
    "queen_df = df[df['name'].str.lower().str.contains(\"queen\")]\n",
    "print(sorted(queen_df['name'].unique()))"
   ]
  },
  {
   "cell_type": "code",
   "execution_count": 24,
   "metadata": {},
   "outputs": [
    {
     "name": "stdout",
     "output_type": "stream",
     "text": [
      "['Chick-Fil-A', 'Chick-fil-A', \"Filippi's Pizza Grotto\"]\n"
     ]
    }
   ],
   "source": [
    "fil_df = df[df['name'].str.lower().str.contains(\"fil\")]\n",
    "print(sorted(fil_df['name'].unique()))"
   ]
  },
  {
   "cell_type": "code",
   "execution_count": 25,
   "metadata": {},
   "outputs": [
    {
     "name": "stdout",
     "output_type": "stream",
     "text": [
      "[\"Jimmy John's\", 'Jimmy Johns', \"Jimmy's Grotto\"]\n"
     ]
    }
   ],
   "source": [
    "jimmy_df = df[df['name'].str.lower().str.contains(\"jimmy\")]\n",
    "print(sorted(jimmy_df['name'].unique()))"
   ]
  },
  {
   "cell_type": "code",
   "execution_count": 26,
   "metadata": {},
   "outputs": [
    {
     "name": "stdout",
     "output_type": "stream",
     "text": [
      "[\"Carl's Jr\", \"Carl's Jr / Green Burrito\", \"Carl's Jr.\", \"Carl's Jr. / Green Burrito\", \"Carl's Jr. / The Green Burrito\"]\n"
     ]
    }
   ],
   "source": [
    "carl_df = df[df['name'].str.lower().str.contains(\"carl\")]\n",
    "print(sorted(carl_df['name'].unique()))"
   ]
  },
  {
   "cell_type": "code",
   "execution_count": 27,
   "metadata": {},
   "outputs": [
    {
     "name": "stdout",
     "output_type": "stream",
     "text": [
      "['Dunkin Donuts', \"Dunkin' Donuts\"]\n"
     ]
    }
   ],
   "source": [
    "dunkin_df = df[df['name'].str.lower().str.contains(\"dunk\")]\n",
    "print(sorted(dunkin_df['name'].unique()))"
   ]
  },
  {
   "cell_type": "code",
   "execution_count": 30,
   "metadata": {},
   "outputs": [],
   "source": [
    "df = df.replace(\n",
    "    {'name':{\n",
    "        \"Mc Donalds\":\"McDonald's\", \"McDonald's of Rolesville\":\"McDonald's\", 'McDonalds':\"McDonald's\", \n",
    "        \"McDonalds's\":\"McDonald's\", \"Mcdonald's\":\"McDonald's\", 'Mcdonalds':\"McDonald's\", 'Mcdonalds Whitehouse':\"McDonald's\", \n",
    "        \"The Arch at McDonald's Campus Office Building\":\"McDonald's\", \"Popeye's Louisiana Kitchen\":'Popeyes', \n",
    "        'Popeyes Chicken & Biscuits':'Popeyes', 'Popeyes Chicken Biscuits':'Popeyes', 'Popeyes Louisiana Kitchen':'Popeyes',\n",
    "        'Wienerschitzel':'Wienerschnitzel', 'SUBWAY':'Subway', 'SUBWAY¬Æ':'Subway', 'Burger King¬Æ':'Burger King', \n",
    "        'SONIC Drive In': 'Sonic Drive-In', 'SONIC Drive-In': 'Sonic Drive-In', 'Sonic': 'Sonic Drive-In', \n",
    "        \"Sonic America's Drive-In\": 'Sonic Drive-In', 'Sonic Drive In': 'Sonic Drive-In', 'Sonic Drive in': 'Sonic Drive-In',\n",
    "        'KFC - Kentucky Fried Chicken':'KFC', 'Taco Bell / KFC':'KFC/Taco Bell', 'Taco Bell/KFC':'KFC/Taco Bell',\n",
    "        'Chipotle Mexican Grill':'Chipotle', \"Arby's - Closed\":\"Arby's\", 'Arbys':\"Arby's\", \"Ben and Jerry's\": \"Ben & Jerry's\",\n",
    "        \"Long John Silver's / AW\": \"A&W/Long John Silver's\",'A&W/Long John Silvers':\"A&W/Long John Silver's\", \n",
    "        'KFC/Long John Silvers':\"KFC/Long John Silver's\", 'Long John Silvers':\"Long John Silver's\", \n",
    "        'Long John Silvers / A&W': \"A&W/Long John Silver's\", \"Auntie Anne's\":\"Auntie Anne's Pretzels\",\n",
    "        'Jack In The Box': 'Jack in the Box', 'Jack in the Box -':'Jack in the Box',\n",
    "        'Dairy Queen (Treat Only)':'Dairy Queen', \"Wolf's Dairy Queen\":'Dairy Queen','Chick-Fil-A': 'Chick-fil-A',\n",
    "        'Jimmy Johns':\"Jimmy John's\", \"Carl's Jr\":\"Carl's Jr.\", \"Carl's Jr / Green Burrito\":\"Carl's Jr./Green Burrito\",\n",
    "        \"Carl's Jr. / Green Burrito\":\"Carl's Jr./Green Burrito\", \"Carl's Jr. / The Green Burrito\":\"Carl's Jr./Green Burrito\",\n",
    "        'Dunkin Donuts': \"Dunkin' Donuts\"       \n",
    "        \n",
    "    }})"
   ]
  },
  {
   "cell_type": "code",
   "execution_count": 31,
   "metadata": {},
   "outputs": [
    {
     "data": {
      "text/plain": [
       "McDonald's         1954\n",
       "Taco Bell          1032\n",
       "Subway              849\n",
       "Burger King         834\n",
       "Arby's              669\n",
       "Wendy's             628\n",
       "Jack in the Box     332\n",
       "Pizza Hut           230\n",
       "Chick-fil-A         228\n",
       "Dairy Queen         220\n",
       "Domino's Pizza      215\n",
       "Sonic Drive-In      205\n",
       "KFC                 173\n",
       "Carl's Jr.          127\n",
       "Jimmy John's        121\n",
       "Name: name, dtype: int64"
      ]
     },
     "execution_count": 31,
     "metadata": {},
     "output_type": "execute_result"
    }
   ],
   "source": [
    "df[\"name\"].value_counts().head(15)"
   ]
  },
  {
   "cell_type": "code",
   "execution_count": 52,
   "metadata": {
    "scrolled": true
   },
   "outputs": [
    {
     "data": {
      "text/html": [
       "<div>\n",
       "<style scoped>\n",
       "    .dataframe tbody tr th:only-of-type {\n",
       "        vertical-align: middle;\n",
       "    }\n",
       "\n",
       "    .dataframe tbody tr th {\n",
       "        vertical-align: top;\n",
       "    }\n",
       "\n",
       "    .dataframe thead th {\n",
       "        text-align: right;\n",
       "    }\n",
       "</style>\n",
       "<table border=\"1\" class=\"dataframe\">\n",
       "  <thead>\n",
       "    <tr style=\"text-align: right;\">\n",
       "      <th></th>\n",
       "      <th>city</th>\n",
       "      <th>country</th>\n",
       "      <th>name</th>\n",
       "      <th>province</th>\n",
       "      <th>websites</th>\n",
       "    </tr>\n",
       "  </thead>\n",
       "  <tbody>\n",
       "    <tr>\n",
       "      <th>0</th>\n",
       "      <td>Thibodaux</td>\n",
       "      <td>US</td>\n",
       "      <td>Sonic Drive-In</td>\n",
       "      <td>LA</td>\n",
       "      <td>https://locations.sonicdrivein.com/la/thibodau...</td>\n",
       "    </tr>\n",
       "    <tr>\n",
       "      <th>1</th>\n",
       "      <td>Thibodaux</td>\n",
       "      <td>US</td>\n",
       "      <td>Sonic Drive-In</td>\n",
       "      <td>LA</td>\n",
       "      <td>https://locations.sonicdrivein.com/la/thibodau...</td>\n",
       "    </tr>\n",
       "    <tr>\n",
       "      <th>2</th>\n",
       "      <td>Pigeon Forge</td>\n",
       "      <td>US</td>\n",
       "      <td>Taco Bell</td>\n",
       "      <td>TN</td>\n",
       "      <td>http://www.tacobell.com,https://locations.taco...</td>\n",
       "    </tr>\n",
       "    <tr>\n",
       "      <th>3</th>\n",
       "      <td>Pigeon Forge</td>\n",
       "      <td>US</td>\n",
       "      <td>Arby's</td>\n",
       "      <td>TN</td>\n",
       "      <td>http://www.arbys.com,https://locations.arbys.c...</td>\n",
       "    </tr>\n",
       "    <tr>\n",
       "      <th>4</th>\n",
       "      <td>Morrow</td>\n",
       "      <td>US</td>\n",
       "      <td>Steak 'n Shake</td>\n",
       "      <td>GA</td>\n",
       "      <td>http://www.steaknshake.com/locations/23851-ste...</td>\n",
       "    </tr>\n",
       "  </tbody>\n",
       "</table>\n",
       "</div>"
      ],
      "text/plain": [
       "           city country            name province  \\\n",
       "0     Thibodaux      US  Sonic Drive-In       LA   \n",
       "1     Thibodaux      US  Sonic Drive-In       LA   \n",
       "2  Pigeon Forge      US       Taco Bell       TN   \n",
       "3  Pigeon Forge      US          Arby's       TN   \n",
       "4        Morrow      US  Steak 'n Shake       GA   \n",
       "\n",
       "                                            websites  \n",
       "0  https://locations.sonicdrivein.com/la/thibodau...  \n",
       "1  https://locations.sonicdrivein.com/la/thibodau...  \n",
       "2  http://www.tacobell.com,https://locations.taco...  \n",
       "3  http://www.arbys.com,https://locations.arbys.c...  \n",
       "4  http://www.steaknshake.com/locations/23851-ste...  "
      ]
     },
     "execution_count": 52,
     "metadata": {},
     "output_type": "execute_result"
    }
   ],
   "source": [
    "df.head()"
   ]
  },
  {
   "cell_type": "markdown",
   "metadata": {},
   "source": [
    "## RestraurantBrand Table"
   ]
  },
  {
   "cell_type": "code",
   "execution_count": 63,
   "metadata": {},
   "outputs": [
    {
     "data": {
      "text/html": [
       "<div>\n",
       "<style scoped>\n",
       "    .dataframe tbody tr th:only-of-type {\n",
       "        vertical-align: middle;\n",
       "    }\n",
       "\n",
       "    .dataframe tbody tr th {\n",
       "        vertical-align: top;\n",
       "    }\n",
       "\n",
       "    .dataframe thead th {\n",
       "        text-align: right;\n",
       "    }\n",
       "</style>\n",
       "<table border=\"1\" class=\"dataframe\">\n",
       "  <thead>\n",
       "    <tr style=\"text-align: right;\">\n",
       "      <th></th>\n",
       "      <th>Restraurant Brand</th>\n",
       "    </tr>\n",
       "  </thead>\n",
       "  <tbody>\n",
       "    <tr>\n",
       "      <th>0</th>\n",
       "      <td>7-Eleven</td>\n",
       "    </tr>\n",
       "    <tr>\n",
       "      <th>1</th>\n",
       "      <td>90 Miles Cuban Cafe</td>\n",
       "    </tr>\n",
       "    <tr>\n",
       "      <th>2</th>\n",
       "      <td>A&amp;W/Long John Silver's</td>\n",
       "    </tr>\n",
       "    <tr>\n",
       "      <th>3</th>\n",
       "      <td>A's Ace Burgers</td>\n",
       "    </tr>\n",
       "    <tr>\n",
       "      <th>4</th>\n",
       "      <td>Abruzzi Pizza</td>\n",
       "    </tr>\n",
       "    <tr>\n",
       "      <th>5</th>\n",
       "      <td>Acropolis Gyro Palace</td>\n",
       "    </tr>\n",
       "    <tr>\n",
       "      <th>6</th>\n",
       "      <td>Adobe Cantina Salsa</td>\n",
       "    </tr>\n",
       "    <tr>\n",
       "      <th>7</th>\n",
       "      <td>Ak Buffet</td>\n",
       "    </tr>\n",
       "    <tr>\n",
       "      <th>8</th>\n",
       "      <td>All About Burger</td>\n",
       "    </tr>\n",
       "    <tr>\n",
       "      <th>9</th>\n",
       "      <td>Ameci Pizza &amp; Pasta</td>\n",
       "    </tr>\n",
       "    <tr>\n",
       "      <th>10</th>\n",
       "      <td>Andy's Frozen Custard</td>\n",
       "    </tr>\n",
       "    <tr>\n",
       "      <th>11</th>\n",
       "      <td>Angelina's Pizza</td>\n",
       "    </tr>\n",
       "    <tr>\n",
       "      <th>12</th>\n",
       "      <td>Ani's Chicken</td>\n",
       "    </tr>\n",
       "    <tr>\n",
       "      <th>13</th>\n",
       "      <td>Arby's</td>\n",
       "    </tr>\n",
       "    <tr>\n",
       "      <th>14</th>\n",
       "      <td>Arctic Circle</td>\n",
       "    </tr>\n",
       "    <tr>\n",
       "      <th>15</th>\n",
       "      <td>Arni's Crawfordsville</td>\n",
       "    </tr>\n",
       "    <tr>\n",
       "      <th>16</th>\n",
       "      <td>Arthur Treacher's Fish &amp; Chips</td>\n",
       "    </tr>\n",
       "    <tr>\n",
       "      <th>17</th>\n",
       "      <td>Au Bon Pain</td>\n",
       "    </tr>\n",
       "    <tr>\n",
       "      <th>18</th>\n",
       "      <td>Auntie Anne's Pretzels</td>\n",
       "    </tr>\n",
       "    <tr>\n",
       "      <th>19</th>\n",
       "      <td>Ay Jalisco</td>\n",
       "    </tr>\n",
       "    <tr>\n",
       "      <th>20</th>\n",
       "      <td>B Good</td>\n",
       "    </tr>\n",
       "    <tr>\n",
       "      <th>21</th>\n",
       "      <td>B&amp;D Burgers</td>\n",
       "    </tr>\n",
       "    <tr>\n",
       "      <th>22</th>\n",
       "      <td>B's Pizza</td>\n",
       "    </tr>\n",
       "    <tr>\n",
       "      <th>23</th>\n",
       "      <td>B.GOOD</td>\n",
       "    </tr>\n",
       "    <tr>\n",
       "      <th>24</th>\n",
       "      <td>BURGERFI</td>\n",
       "    </tr>\n",
       "  </tbody>\n",
       "</table>\n",
       "</div>"
      ],
      "text/plain": [
       "                 Restraurant Brand\n",
       "0                         7-Eleven\n",
       "1              90 Miles Cuban Cafe\n",
       "2           A&W/Long John Silver's\n",
       "3                  A's Ace Burgers\n",
       "4                    Abruzzi Pizza\n",
       "5            Acropolis Gyro Palace\n",
       "6              Adobe Cantina Salsa\n",
       "7                        Ak Buffet\n",
       "8                 All About Burger\n",
       "9              Ameci Pizza & Pasta\n",
       "10           Andy's Frozen Custard\n",
       "11                Angelina's Pizza\n",
       "12                   Ani's Chicken\n",
       "13                          Arby's\n",
       "14                   Arctic Circle\n",
       "15           Arni's Crawfordsville\n",
       "16  Arthur Treacher's Fish & Chips\n",
       "17                     Au Bon Pain\n",
       "18          Auntie Anne's Pretzels\n",
       "19                      Ay Jalisco\n",
       "20                          B Good\n",
       "21                     B&D Burgers\n",
       "22                       B's Pizza\n",
       "23                          B.GOOD\n",
       "24                        BURGERFI"
      ]
     },
     "execution_count": 63,
     "metadata": {},
     "output_type": "execute_result"
    }
   ],
   "source": [
    "RestraurantBrand_df = pd.DataFrame(sorted(df['name'].unique()))\n",
    "RestraurantBrand_df.columns = ['Restraurant Brand']\n",
    "RestraurantBrand_df.head(25)"
   ]
  },
  {
   "cell_type": "code",
   "execution_count": null,
   "metadata": {},
   "outputs": [],
   "source": []
  },
  {
   "cell_type": "markdown",
   "metadata": {},
   "source": [
    "## Load"
   ]
  },
  {
   "cell_type": "code",
   "execution_count": null,
   "metadata": {},
   "outputs": [],
   "source": [
    "from sqlalchemy import create_engine\n"
   ]
  }
 ],
 "metadata": {
  "kernelspec": {
   "display_name": "Python [conda env:PythonData] *",
   "language": "python",
   "name": "conda-env-PythonData-py"
  },
  "language_info": {
   "codemirror_mode": {
    "name": "ipython",
    "version": 3
   },
   "file_extension": ".py",
   "mimetype": "text/x-python",
   "name": "python",
   "nbconvert_exporter": "python",
   "pygments_lexer": "ipython3",
   "version": "3.8.3"
  }
 },
 "nbformat": 4,
 "nbformat_minor": 4
}
